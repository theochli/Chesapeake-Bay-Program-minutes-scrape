{
 "cells": [
  {
   "cell_type": "markdown",
   "metadata": {},
   "source": [
    "# Identification of Important Meetings and Documents"
   ]
  },
  {
   "cell_type": "code",
   "execution_count": 24,
   "metadata": {},
   "outputs": [],
   "source": [
    "import pandas as pd\n",
    "import matplotlib.pyplot as plt\n",
    "import datetime\n",
    "%matplotlib inline"
   ]
  },
  {
   "cell_type": "code",
   "execution_count": 2,
   "metadata": {},
   "outputs": [],
   "source": [
    "mtgs = pd.read_csv(\"most_model_mentions_mtgs_sum.csv\")\n",
    "docs = pd.read_csv(\"docs_nmodel.csv\")"
   ]
  },
  {
   "cell_type": "code",
   "execution_count": 5,
   "metadata": {},
   "outputs": [],
   "source": [
    "mtgs['mtg_date'] = pd.to_datetime(mtgs['mtg_date'], format='%Y-%m-%d')"
   ]
  },
  {
   "cell_type": "code",
   "execution_count": 19,
   "metadata": {
    "scrolled": true
   },
   "outputs": [
    {
     "data": {
      "text/html": [
       "<div>\n",
       "<style scoped>\n",
       "    .dataframe tbody tr th:only-of-type {\n",
       "        vertical-align: middle;\n",
       "    }\n",
       "\n",
       "    .dataframe tbody tr th {\n",
       "        vertical-align: top;\n",
       "    }\n",
       "\n",
       "    .dataframe thead th {\n",
       "        text-align: right;\n",
       "    }\n",
       "</style>\n",
       "<table border=\"1\" class=\"dataframe\">\n",
       "  <thead>\n",
       "    <tr style=\"text-align: right;\">\n",
       "      <th></th>\n",
       "      <th>index</th>\n",
       "      <th>mtg_details_url</th>\n",
       "      <th>year</th>\n",
       "      <th>n_model</th>\n",
       "    </tr>\n",
       "    <tr>\n",
       "      <th>mtg_date</th>\n",
       "      <th></th>\n",
       "      <th></th>\n",
       "      <th></th>\n",
       "      <th></th>\n",
       "    </tr>\n",
       "  </thead>\n",
       "  <tbody>\n",
       "    <tr>\n",
       "      <th>2008-01-08</th>\n",
       "      <td>136</td>\n",
       "      <td>https://www.chesapeakebay.net/what/event/model...</td>\n",
       "      <td>2008</td>\n",
       "      <td>80</td>\n",
       "    </tr>\n",
       "    <tr>\n",
       "      <th>2008-01-09</th>\n",
       "      <td>135</td>\n",
       "      <td>https://www.chesapeakebay.net/what/event/model...</td>\n",
       "      <td>2008</td>\n",
       "      <td>80</td>\n",
       "    </tr>\n",
       "    <tr>\n",
       "      <th>2008-01-09</th>\n",
       "      <td>829</td>\n",
       "      <td>https://www.chesapeakebay.net/what/event/nonti...</td>\n",
       "      <td>2008</td>\n",
       "      <td>1</td>\n",
       "    </tr>\n",
       "    <tr>\n",
       "      <th>2008-01-10</th>\n",
       "      <td>627</td>\n",
       "      <td>https://www.chesapeakebay.net/what/event/reeva...</td>\n",
       "      <td>2008</td>\n",
       "      <td>5</td>\n",
       "    </tr>\n",
       "    <tr>\n",
       "      <th>2008-01-17</th>\n",
       "      <td>803</td>\n",
       "      <td>https://www.chesapeakebay.net/what/event/tmaw_...</td>\n",
       "      <td>2008</td>\n",
       "      <td>1</td>\n",
       "    </tr>\n",
       "  </tbody>\n",
       "</table>\n",
       "</div>"
      ],
      "text/plain": [
       "            index                                    mtg_details_url  year  \\\n",
       "mtg_date                                                                     \n",
       "2008-01-08    136  https://www.chesapeakebay.net/what/event/model...  2008   \n",
       "2008-01-09    135  https://www.chesapeakebay.net/what/event/model...  2008   \n",
       "2008-01-09    829  https://www.chesapeakebay.net/what/event/nonti...  2008   \n",
       "2008-01-10    627  https://www.chesapeakebay.net/what/event/reeva...  2008   \n",
       "2008-01-17    803  https://www.chesapeakebay.net/what/event/tmaw_...  2008   \n",
       "\n",
       "            n_model  \n",
       "mtg_date             \n",
       "2008-01-08       80  \n",
       "2008-01-09       80  \n",
       "2008-01-09        1  \n",
       "2008-01-10        5  \n",
       "2008-01-17        1  "
      ]
     },
     "execution_count": 19,
     "metadata": {},
     "output_type": "execute_result"
    }
   ],
   "source": [
    "mtgs_sorted = mtgs.sort_values('mtg_date').reset_index()\n",
    "mtgs_sorted.set_index('mtg_date', inplace=True)\n",
    "mtgs_sorted.head()"
   ]
  },
  {
   "cell_type": "code",
   "execution_count": 36,
   "metadata": {},
   "outputs": [
    {
     "data": {
      "image/png": "[encoded data removed]",
      "text/plain": [
       "<Figure size 1080x360 with 1 Axes>"
      ]
     },
     "metadata": {
      "needs_background": "light"
     },
     "output_type": "display_data"
    }
   ],
   "source": [
    "fig, ax = plt.subplots(1,1, figsize = (15,5))\n",
    "ax.bar(mtgs_sorted.index ,mtgs_sorted['n_model'], width=15)\n",
    "ax.xaxis_date()\n",
    "\n",
    "plt.show()"
   ]
  }
 ],
 "metadata": {
  "kernelspec": {
   "display_name": "Python 3 (ipykernel)",
   "language": "python",
   "name": "python3"
  },
  "language_info": {
   "codemirror_mode": {
    "name": "ipython",
    "version": 3
   },
   "file_extension": ".py",
   "mimetype": "text/x-python",
   "name": "python",
   "nbconvert_exporter": "python",
   "pygments_lexer": "ipython3",
   "version": "3.9.13"
  }
 },
 "nbformat": 4,
 "nbformat_minor": 2
}
